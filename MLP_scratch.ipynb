{
  "nbformat": 4,
  "nbformat_minor": 0,
  "metadata": {
    "colab": {
      "name": "MLP_scratch.ipynb",
      "version": "0.3.2",
      "provenance": [],
      "include_colab_link": true
    },
    "kernelspec": {
      "name": "python3",
      "display_name": "Python 3"
    }
  },
  "cells": [
    {
      "cell_type": "markdown",
      "metadata": {
        "id": "view-in-github",
        "colab_type": "text"
      },
      "source": [
        "[View in Colaboratory](https://colab.research.google.com/github/prakhar070/MNIST-dataset-using-Tensorflow/blob/master/MLP_scratch.ipynb)"
      ]
    },
    {
      "metadata": {
        "id": "3nMZ63vVUpBQ",
        "colab_type": "text"
      },
      "cell_type": "markdown",
      "source": [
        "### **Loading the MNIST dataset**"
      ]
    },
    {
      "metadata": {
        "id": "iQUe1IpHUoI_",
        "colab_type": "code",
        "colab": {}
      },
      "cell_type": "code",
      "source": [
        "#importing the libraries\n",
        "import numpy as np\n",
        "from sklearn.datasets import fetch_mldata\n",
        "\n",
        "#importing the dataset\n",
        "mnist = fetch_mldata('MNIST original')\n",
        "data = mnist.data\n",
        "target = mnist.target\n",
        "\n",
        "#declaring X_test,X_train,y_test and y_train\n",
        "indices = np.random.permutation(len(data))\n",
        "X_test = data[indices[:int(0.2*len(data))]]\n",
        "y_test = target[indices[:int(0.2*len(data))]].astype(int)\n",
        "X_train = data[indices[int(0.2*len(data)):]]\n",
        "y_train = target[indices[int(0.2*len(data)):]].astype(int)"
      ],
      "execution_count": 0,
      "outputs": []
    },
    {
      "metadata": {
        "id": "R6L-bPUHYU02",
        "colab_type": "code",
        "colab": {
          "base_uri": "https://localhost:8080/",
          "height": 90
        },
        "outputId": "680be7a7-27fe-4368-ef02-30b547f32b48"
      },
      "cell_type": "code",
      "source": [
        "#observing the shape of the loaded data\n",
        "print(X_train.shape)\n",
        "print(X_test.shape)\n",
        "print(y_train.shape)\n",
        "print(y_test.shape)"
      ],
      "execution_count": 9,
      "outputs": [
        {
          "output_type": "stream",
          "text": [
            "(56000, 784)\n",
            "(14000, 784)\n",
            "(56000,)\n",
            "(14000,)\n"
          ],
          "name": "stdout"
        }
      ]
    },
    {
      "metadata": {
        "id": "6UNAe3IbFiv6",
        "colab_type": "text"
      },
      "cell_type": "markdown",
      "source": [
        "**Preprocessing**"
      ]
    },
    {
      "metadata": {
        "id": "XcNk7Zg9gSAU",
        "colab_type": "code",
        "colab": {
          "base_uri": "https://localhost:8080/",
          "height": 74
        },
        "outputId": "433953f7-5123-4d41-d925-82ae08d994a0"
      },
      "cell_type": "code",
      "source": [
        "#using scikitlearn's standard scaler to scale the feature set\n",
        "from sklearn.preprocessing import StandardScaler\n",
        "sc = StandardScaler()\n",
        "X_train_scaled = sc.fit_transform(X_train)\n",
        "X_test_scaled = sc.transform(X_test)\n",
        "\n",
        "#casting to float32 so that it can be used in tensorflow easily\n",
        "X_train_scaled = np.array(X_train_scaled, dtype=\"float32\")\n",
        "X_test_scaled = np.array(X_test_scaled, dtype=\"float32\")"
      ],
      "execution_count": 10,
      "outputs": [
        {
          "output_type": "stream",
          "text": [
            "/usr/local/lib/python3.6/dist-packages/sklearn/utils/validation.py:475: DataConversionWarning: Data with input dtype uint8 was converted to float64 by StandardScaler.\n",
            "  warnings.warn(msg, DataConversionWarning)\n"
          ],
          "name": "stderr"
        }
      ]
    },
    {
      "metadata": {
        "id": "SZG7IDBbiyXy",
        "colab_type": "text"
      },
      "cell_type": "markdown",
      "source": [
        "### **Training\ta\tDNN\tUsing\tPlain\tTensorFlow **"
      ]
    },
    {
      "metadata": {
        "id": "WffHx4Cai87G",
        "colab_type": "text"
      },
      "cell_type": "markdown",
      "source": [
        "If\tyou\twant\tmore\tcontrol\tover\tthe\tarchitecture\tof\tthe\tnetwork,\tyou\tmay\tprefer\tto\tuse\tTensorFlow’s\tlowerlevel\tPython\tAPI\t.\tIn\tthis\tsection\twe\twill\tbuild\tthe\tsame\tmodel\tas\tbefore\tusing this\tAPI,\tand\twe\twill\timplement\tMini-batch\tGradient\tDescent\tto\ttrain\tit\ton\tthe\tMNIST\tdataset.\tThe\tfirst step\tis\tthe\tconstruction\tphase,\tbuilding\tthe\tTensorFlow\tgraph.\tThe\tsecond\tstep\tis\tthe\texecution\tphase, where\tyou\tactually\trun\tthe\tgraph\tto\ttrain\tthe\tmodel"
      ]
    },
    {
      "metadata": {
        "id": "ToOx5CkOjEOR",
        "colab_type": "text"
      },
      "cell_type": "markdown",
      "source": [
        "**Construction phase**"
      ]
    },
    {
      "metadata": {
        "id": "DiuyAC7wa7v4",
        "colab_type": "code",
        "colab": {}
      },
      "cell_type": "code",
      "source": [
        "import tensorflow as tf\n",
        "\n",
        "n_inputs = 28*28    #MNIST\n",
        "n_hidden1 = 300\n",
        "n_hidden2 = 100\n",
        "n_outputs = 10\n",
        "\n",
        "#declaring the placeholder for the input layer\n",
        "X = tf.placeholder(tf.float32, shape=(None,n_inputs), name=\"X\")\n",
        "#declaring the placeholder for the output layer\n",
        "y =tf.placeholder(tf.int64, shape=(None), name=\"y\")"
      ],
      "execution_count": 0,
      "outputs": []
    },
    {
      "metadata": {
        "id": "_V2e9IsikrL0",
        "colab_type": "text"
      },
      "cell_type": "markdown",
      "source": [
        "**Now\tlet’s\tcreate\tthe\tactual\tneural\tnetwork.\tThe\tplaceholder\tX\twill\tact\tas\tthe\tinput\tlayer;\tduring\tthe execution\tphase,\tit\twill\tbe\treplaced\twith\tone\ttraining\tbatch\tat\ta\ttime\t(note\tthat\tall\tthe\tinstances\tin\ta training\tbatch\twill\tbe\tprocessed\tsimultaneously\tby\tthe\tneural\tnetwork).\tNow\tyou\tneed\tto\tcreate\tthe\ttwo hidden\tlayers\tand\tthe\toutput\tlayer.\tThe\ttwo\thidden\tlayers\tare\talmost\tidentical:\tthey\tdiffer\tonly\tby\tthe inputs\tthey\tare\tconnected\tto\tand\tby\tthe\tnumber\tof\tneurons\tthey\tcontain.\tThe\toutput\tlayer\tis\talso\tvery similar,\tbut\tit\tuses\ta\tsoftmax\tactivation\tfunction\tinstead\tof\ta\tReLU\tactivation\tfunction.\t**"
      ]
    },
    {
      "metadata": {
        "id": "2WzcEaYWa7hY",
        "colab_type": "code",
        "colab": {}
      },
      "cell_type": "code",
      "source": [
        "#X is the input vector to that particular neuron layer\n",
        "#n_neurons is the number of neurons in that very layer\n",
        "#activation is the step function applied by the LTU's to the weighted sum\n",
        "def neuron_layer(X, n_neurons, name, activation=None):\n",
        "  with tf.name_scope(name):\n",
        "    n_inputs = int(X.shape[1])\n",
        "    #creating a weight matrics and randomly initializing it\n",
        "    stddev\t=\t2\t/\tnp.sqrt(n_inputs)\n",
        "    init = tf.truncated_normal((n_inputs,\tn_neurons),\tstddev=stddev)\t\t\t\t\t\t\t\t\n",
        "    W\t=\ttf.Variable(init,\tname=\"weights\")\n",
        "    #creating the bias vector\n",
        "    b = tf.Variable(tf.zeros([n_neurons]), name=\"biases\")\n",
        "    z = tf.matmul(X,W)+b\n",
        "    if activation == \"relu\":\n",
        "      return tf.nn.relu(z)\n",
        "    else:\n",
        "      return z\n",
        "    \n",
        "  "
      ],
      "execution_count": 0,
      "outputs": []
    },
    {
      "metadata": {
        "id": "d-LwHVyqnVO3",
        "colab_type": "text"
      },
      "cell_type": "markdown",
      "source": [
        "Okay,\tso\tnow\tyou\thave\ta\tnice\tfunction\tto\tcreate\ta\tneuron\tlayer.\tLet’s\tuse\tit\tto\tcreate\tthe\tdeep\tneural network!\t**The\tfirst\thidden\tlayer\ttakes\tX\tas\tits\tinput.\tThe\tsecond\ttakes\tthe\toutput\tof\tthe\tfirst\thidden\tlayer\tas its\tinput.\tAnd\tfinally,\tthe\toutput\tlayer\ttakes\tthe\toutput\tof\tthe\tsecond\thidden\tlayer\tas\tits\tinput.**\n"
      ]
    },
    {
      "metadata": {
        "id": "Xlrc31GTnNtt",
        "colab_type": "code",
        "colab": {}
      },
      "cell_type": "code",
      "source": [
        "import numpy as np\n",
        "#declaring the structure of the deep neural network\n",
        "with tf.name_scope(\"dnn\"):\n",
        "  hidden1 = neuron_layer(X, n_hidden1, \"hidden1\", activation=\"relu\")\n",
        "  hidden2 = neuron_layer(hidden1, n_hidden2, \"hidden2\", activation=\"relu\")\n",
        "  #logits\tis\tthe\toutput\tof\tthe\tneural network\tbefore going through the\tsoftmax\tactivation\tfunction\n",
        "  logits = neuron_layer(hidden2, n_outputs, \"outputs\") "
      ],
      "execution_count": 0,
      "outputs": []
    },
    {
      "metadata": {
        "id": "oJTcFrsSpRqT",
        "colab_type": "code",
        "colab": {
          "base_uri": "https://localhost:8080/",
          "height": 35
        },
        "outputId": "317197b4-601b-4de1-9dd2-53beb8118a18"
      },
      "cell_type": "code",
      "source": [
        "#declaring the loss function\n",
        "with tf.name_scope(\"loss\"):\n",
        "  print(y.shape)\n",
        "  xentropy = tf.nn.sparse_softmax_cross_entropy_with_logits(labels=y,\tlogits=logits)\n",
        "  #finding the loss by using mean of the entropy losses for each y\n",
        "  loss = tf.reduce_mean(xentropy, name=\"loss\")\n",
        "  "
      ],
      "execution_count": 14,
      "outputs": [
        {
          "output_type": "stream",
          "text": [
            "<unknown>\n"
          ],
          "name": "stdout"
        }
      ]
    },
    {
      "metadata": {
        "id": "-NVIYMnpqSSu",
        "colab_type": "code",
        "colab": {}
      },
      "cell_type": "code",
      "source": [
        "#training the model using gradient descent to minimize the loss function earlier evaluated\n",
        "learning_rate = 0.01\n",
        "with tf.name_scope(\"train\"):\n",
        "  optimizer = tf.train.GradientDescentOptimizer(learning_rate)\n",
        "  training_op = optimizer.minimize(loss)\n",
        "  \n",
        "#evaluating the model i.e finding the score of the model  \n",
        "with tf.name_scope(\"eval\"):\n",
        "  correct = tf.nn.in_top_k(logits,y,1)\n",
        "  accuracy = tf.reduce_mean(tf.cast(correct,\ttf.float32))"
      ],
      "execution_count": 0,
      "outputs": []
    },
    {
      "metadata": {
        "id": "vkuwvBE5qSKl",
        "colab_type": "code",
        "colab": {}
      },
      "cell_type": "code",
      "source": [
        "#now we run the graph we have been creating all this while\n",
        "init = tf.global_variables_initializer()\n",
        "#execution phase\n",
        "n_epochs = 200\n",
        "batch_size = 100\n",
        "stats_train = []\n",
        "stats_test = []\n",
        "with tf.Session() as sess:\n",
        "  #this initializes all the tf.variables we have declared previously\n",
        "  init.run()\n",
        "  for epoch in range(n_epochs):\n",
        "    #for every iteration\n",
        "    for batch_no in range(len(X_train)//batch_size):\n",
        "      X_batch = X_train_scaled[(batch_no*batch_size):((batch_no+1)*batch_size)] \n",
        "      y_batch = y_train[(batch_no*batch_size):((batch_no+1)*batch_size)]\n",
        "      #training the model using the current batch\n",
        "      sess.run(training_op, feed_dict={X:X_batch, y:y_batch})\n",
        "    #checking the score after every iteration\n",
        "    acc_train = accuracy.eval(feed_dict={X:X_batch, y:y_batch})\n",
        "    acc_test = accuracy.eval(feed_dict={X:X_test_scaled, y:y_test})\n",
        "    stats_train.append(acc_train)\n",
        "    stats_test.append(acc_test)\n",
        "    #print(\"at iteration number: \",epoch,\" train accuracy is: \",acc_train,\" and test accuracy is: \",acc_test)"
      ],
      "execution_count": 0,
      "outputs": []
    },
    {
      "metadata": {
        "id": "R-4pivrLqR9c",
        "colab_type": "code",
        "colab": {
          "base_uri": "https://localhost:8080/",
          "height": 379
        },
        "outputId": "b48d5c00-be80-4351-d517-ecfce828720f"
      },
      "cell_type": "code",
      "source": [
        "import matplotlib.pyplot as plt\n",
        "plt.plot(np.arange(0,200), stats_train, \"b-\", label=\"training accuracy\")\n",
        "plt.plot(np.arange(0,200), stats_test, \"r--\", label=\"validation/test accuracy\")\n",
        "plt.xlabel(\"No of epochs\")\n",
        "plt.ylabel(\"accuracy\")\n",
        "plt.legend()\n",
        "plt.plot()"
      ],
      "execution_count": 18,
      "outputs": [
        {
          "output_type": "execute_result",
          "data": {
            "text/plain": [
              "[]"
            ]
          },
          "metadata": {
            "tags": []
          },
          "execution_count": 18
        },
        {
          "output_type": "display_data",
          "data": {
            "image/png": "[encoded data removed]",
            "text/plain": [
              "<matplotlib.figure.Figure at 0x7f1d9905c668>"
            ]
          },
          "metadata": {
            "tags": []
          }
        }
      ]
    },
    {
      "metadata": {
        "id": "oK7WgggeTonk",
        "colab_type": "code",
        "colab": {
          "base_uri": "https://localhost:8080/",
          "height": 35
        },
        "outputId": "7dba9593-89cb-41f8-f441-8aaf52a12a41"
      },
      "cell_type": "code",
      "source": [
        "#printing the maximum test accuracy\n",
        "print(np.max(stats_test))"
      ],
      "execution_count": 19,
      "outputs": [
        {
          "output_type": "stream",
          "text": [
            "0.9671429\n"
          ],
          "name": "stdout"
        }
      ]
    }
  ]
}